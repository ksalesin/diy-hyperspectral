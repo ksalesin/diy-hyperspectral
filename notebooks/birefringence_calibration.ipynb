{
 "cells": [
  {
   "cell_type": "markdown",
   "id": "34fb0b12",
   "metadata": {},
   "source": [
    "# Birefringence calibration -- Heavy Duty tape\n",
    "\n",
    "This script implements the method of [\\[Belendez et al. 2009\\]](https://physlab.lums.edu.pk/images/3/30/Cellophane2.pdf) to acquire the birefringence value of a birefringent material (tape) based on a series of measurements under different single-wavelength illuminants.\n",
    "\n",
    "Units:  \n",
    "angles: degrees  \n",
    "wavelengths: nanometers  \n",
    "thickness: nanometers  \n",
    "\n",
    "Tape:  \n",
    "Heavy Duty: 3.1 mil / 78740 nm thick  \n",
    "\n",
    "Laser wavelengths:  \n",
    "650 nm (red)  \n",
    "532 nm (green)  \n",
    "405 nm (purple)"
   ]
  },
  {
   "cell_type": "code",
   "execution_count": 1,
   "id": "7d8d8f50",
   "metadata": {},
   "outputs": [
    {
     "name": "stdout",
     "output_type": "stream",
     "text": [
      "/Users/kate/hyperspectral\n"
     ]
    }
   ],
   "source": [
    "%cd \"..\"\n",
    "\n",
    "import os\n",
    "import itertools\n",
    "\n",
    "import rawpy\n",
    "import numpy as np\n",
    "import matplotlib.pyplot as plt\n",
    "from plotly.subplots import make_subplots\n",
    "import plotly.graph_objects as go\n",
    "from tqdm.notebook import trange, tqdm\n",
    "\n",
    "import sensor_data\n",
    "import color_utils\n",
    "import tape_data\n",
    "from experiment import *"
   ]
  },
  {
   "cell_type": "code",
   "execution_count": 2,
   "id": "bea9fe3c",
   "metadata": {},
   "outputs": [],
   "source": [
    "# Laser params\n",
    "laser_wavelengths = np.array([405.0, 532.0, 650.0])\n",
    "\n",
    "# Tape params\n",
    "thickness = tape_data.THICKNESS_HD # Heavy Duty\n",
    "\n",
    "# Measurement analyzer (polarizer) angles\n",
    "theta = np.linspace(0.0, 180.0, 37)\n",
    "\n",
    "# Percentile to use for intensity for image processing\n",
    "percentile = 90.0\n",
    "\n",
    "# Crop to reasonable square around laser glow\n",
    "crop_y0 = 750\n",
    "crop_y1 = 2750\n",
    "crop_x0 = 1500\n",
    "crop_x1 = 3500"
   ]
  },
  {
   "cell_type": "code",
   "execution_count": 3,
   "id": "775c8f7a",
   "metadata": {},
   "outputs": [
    {
     "data": {
      "application/vnd.jupyter.widget-view+json": {
       "model_id": "66c4824e917e4ba5a3df81a5b154bc6e",
       "version_major": 2,
       "version_minor": 0
      },
      "text/plain": [
       "  0%|          | 0/37 [00:00<?, ?it/s]"
      ]
     },
     "metadata": {},
     "output_type": "display_data"
    }
   ],
   "source": [
    "# Load image files\n",
    "file_prefix = \"data/real_world/03-30/\"\n",
    "\n",
    "# Assumes theta measurements (per wavelength) are in order \n",
    "# starting with \"base\" number (where theta = 0)\n",
    "img_start = np.array([117, 3, 946])\n",
    "\n",
    "# Intensity measurements\n",
    "measurements = np.zeros((len(laser_wavelengths),len(theta)))\n",
    "\n",
    "for i in trange(len(theta)):\n",
    "    for w in range(len(laser_wavelengths)):\n",
    "        file_name = file_prefix + \"DSC_\" + str(img_start[w] + i).zfill(4) + \".NEF\"\n",
    "        file_meas = FileMeasurement(file_name, w * len(theta) + i)\n",
    "\n",
    "        # Crop\n",
    "        file_meas.data = file_meas.data[crop_y0:crop_y1, crop_x0:crop_x1, :]\n",
    "\n",
    "        if w == 0:\n",
    "            # Blue laser\n",
    "            # Find percentile of blue channel\n",
    "            meas_perc = np.percentile(file_meas.data[:,:,2].flatten(), percentile)\n",
    "            measurements[0,i] = meas_perc\n",
    "            \n",
    "        elif w == 1:\n",
    "            # Green laser\n",
    "            # Find percentile of green channel\n",
    "            meas_perc = np.percentile(file_meas.data[:,:,1].flatten(), percentile)\n",
    "            measurements[1,i] = meas_perc\n",
    "            \n",
    "        else:\n",
    "            # Red laser\n",
    "            # Find percentile of red channel\n",
    "            meas_perc = np.percentile(file_meas.data[:,:,0].flatten(), percentile)\n",
    "            measurements[2,i] = meas_perc"
   ]
  },
  {
   "cell_type": "code",
   "execution_count": 4,
   "id": "07dd4ddd",
   "metadata": {},
   "outputs": [
    {
     "name": "stdout",
     "output_type": "stream",
     "text": [
      "wav_blue_over_wav_j:  [1.         0.7612782  0.62307692]\n",
      "\n",
      "\n",
      "Possible solutions if gamma_blue =  gamma_min\n",
      "gamma_j =  gamma_min\n",
      "[1.         0.         0.58079826]\n",
      "\n",
      "Possible solutions if gamma_blue =  2 pi - gamma_min\n",
      "gamma_j =  gamma_min\n",
      "[0.         0.46848286 0.11282179]\n",
      "gamma_j =  2 pi - gamma_min\n",
      "[1.         0.72577011 0.        ]\n",
      "\n",
      "Possible solutions if gamma_blue =  2 pi + gamma_min\n",
      "gamma_j =  gamma_min\n",
      "[0.         0.33740069 0.08125409]\n",
      "gamma_j =  2 pi - gamma_min\n",
      "[0.        0.5226986 0.7788452]\n",
      "gamma_j =  2 pi + gamma_min\n",
      "[1.         0.         0.94135338]\n",
      "\n",
      "Possible solutions if gamma_blue =  4 pi - gamma_min\n",
      "gamma_j =  gamma_min\n",
      "[0.         0.21350449 0.05141695]\n",
      "gamma_j =  2 pi - gamma_min\n",
      "[0.         0.33075955 0.49284709]\n",
      "gamma_j =  2 pi + gamma_min\n",
      "[0.         0.75776852 0.59568098]\n",
      "gamma_j =  4 pi - gamma_min\n",
      "[1.         0.87502358 0.        ]\n",
      "\n",
      "Possible solutions if gamma_blue =  4 pi + gamma_min\n",
      "gamma_j =  gamma_min\n",
      "[0.         0.18138854 0.04368266]\n",
      "gamma_j =  2 pi - gamma_min\n",
      "[0.         0.28100575 0.41871163]\n",
      "gamma_j =  2 pi + gamma_min\n",
      "[0.         0.64378282 0.50607695]\n",
      "gamma_j =  4 pi - gamma_min\n",
      "[0.         0.74340004 0.88110592]\n",
      "gamma_j =  4 pi + gamma_min\n",
      "[1.         0.         0.96847124]\n",
      "\n",
      "Final gamma:  [11.54436988  8.74796008  6.87676155]\n"
     ]
    }
   ],
   "source": [
    "# Solve for gamma (retardance angle) for each wavelength\n",
    "\n",
    "x = np.cos(np.deg2rad(2 * theta))\n",
    "A = np.vstack([x, np.ones(x.shape[0])]).T\n",
    "\n",
    "cos_gamma = np.zeros((len(laser_wavelengths,)))\n",
    "\n",
    "for w in range(len(laser_wavelengths)):\n",
    "    # Solve Eq. 16 by least squares\n",
    "    m, n = np.linalg.lstsq(A, measurements[w,:], rcond=None)[0]\n",
    "\n",
    "    # Solve Eq. 20\n",
    "    cos_gamma[w] = m / n\n",
    "\n",
    "# m / n should be the same for all color channels, take the average\n",
    "# cos_gamma = np.average(cos_gamma, axis = 1)\n",
    "\n",
    "# Clamp to [-1, 1]\n",
    "cos_gamma = np.clip(cos_gamma, -1.0, 1.0)\n",
    "\n",
    "# Find smallest possible gamma\n",
    "gamma_min = np.arccos(cos_gamma)\n",
    "\n",
    "# Resolve ambiguity in gamma (see Eqs. 21-24)\n",
    "wav_blue_over_wav_j = laser_wavelengths[0] / laser_wavelengths\n",
    "print(\"wav_blue_over_wav_j: \", wav_blue_over_wav_j)\n",
    "print()\n",
    "\n",
    "# Solve for N and +/- per wavelength\n",
    "# Choose option that gives wav_blue_over_wav_j = gamma_j_over_gamma_blue per wavelength\n",
    "options_str = ['gamma_min', \n",
    "               '2 pi - gamma_min',\n",
    "               '2 pi + gamma_min',\n",
    "               '4 pi - gamma_min',\n",
    "               '4 pi + gamma_min'] # etc.\n",
    "\n",
    "options = [gamma_min, \n",
    "           2. * np.pi - gamma_min,\n",
    "           2. * np.pi + gamma_min,\n",
    "           4. * np.pi - gamma_min,\n",
    "           4. * np.pi + gamma_min] # etc.\n",
    "\n",
    "for i, gamma_blue in enumerate(options):\n",
    "    print()\n",
    "    print('Possible solutions if gamma_blue = ', options_str[i])\n",
    "    \n",
    "    for j, gamma_j in enumerate(options):\n",
    "        # Skip all options where gamma_j > gamma_blue (not a possible solution)\n",
    "        if j > i:\n",
    "            continue\n",
    "            \n",
    "        gj_gb = gamma_j / gamma_blue[0]\n",
    "        \n",
    "        # Replace all options where gamma_j_over_gamma_blue > 1 with 0. (not a possible solution)\n",
    "        # Because we can assume gamma is inversely proportional to wavelength (by Eq. 1)\n",
    "        gj_gb = np.where(gj_gb > 1.0, 0., gj_gb)\n",
    "        \n",
    "        # gamma_blue must equal gamma_j if j = blue\n",
    "        if i != j:\n",
    "            gj_gb[0] = 0.\n",
    "        \n",
    "        print('gamma_j = ', options_str[j])\n",
    "        print(gj_gb)\n",
    "        \n",
    "# Choose best options, verify that gamma_blue > gamma_green > gamma_red\n",
    "blue_opt  = 3\n",
    "green_opt = 2\n",
    "red_opt   = 2\n",
    "\n",
    "gamma = np.zeros_like(gamma_min)\n",
    "gamma[0] = options[blue_opt][0] # blue\n",
    "gamma[1] = options[green_opt][1] # green\n",
    "gamma[2] = options[red_opt][2] # red\n",
    "\n",
    "print()\n",
    "print(\"Final gamma: \", gamma)"
   ]
  },
  {
   "cell_type": "code",
   "execution_count": 5,
   "id": "1f47590d",
   "metadata": {},
   "outputs": [
    {
     "name": "stdout",
     "output_type": "stream",
     "text": [
      "0.009355584390565443\n",
      "[0.0094504  0.00940683 0.00903487]\n"
     ]
    }
   ],
   "source": [
    "# Solve for birefringence\n",
    "\n",
    "inv_wav = 1.0 / laser_wavelengths\n",
    "A = np.vstack((inv_wav, np.zeros(inv_wav.shape))).T\n",
    "\n",
    "# Solve Eq. 1 by least squares\n",
    "bir_thk_2pi, _ = np.linalg.lstsq(A, gamma, rcond=None)[0]\n",
    "\n",
    "bir_thk = bir_thk_2pi / (2. * np.pi)\n",
    "birefringence_meas = bir_thk / thickness\n",
    "\n",
    "print(birefringence_meas)\n",
    "\n",
    "# Calculate birefringence separately per wavelength instead\n",
    "birefringence_meas2 = gamma * laser_wavelengths / (2. * np.pi * thickness)\n",
    "print(birefringence_meas2)"
   ]
  },
  {
   "cell_type": "code",
   "execution_count": 6,
   "id": "40d8bc16",
   "metadata": {},
   "outputs": [
    {
     "name": "stdout",
     "output_type": "stream",
     "text": [
      "[661.44367148 501.22119217 394.00941362]\n",
      "[654.80774659 498.49085972 407.99559595]\n"
     ]
    }
   ],
   "source": [
    "print(np.rad2deg(gamma))\n",
    "\n",
    "# Double check gammas with measured birefringence\n",
    "gamma_exp = (2. * np.pi) * birefringence_meas * thickness / laser_wavelengths\n",
    "print(np.rad2deg(gamma_exp))"
   ]
  },
  {
   "cell_type": "code",
   "execution_count": null,
   "id": "abfcce5b",
   "metadata": {},
   "outputs": [],
   "source": []
  }
 ],
 "metadata": {
  "kernelspec": {
   "display_name": "Python 3",
   "language": "python",
   "name": "python3"
  },
  "language_info": {
   "codemirror_mode": {
    "name": "ipython",
    "version": 3
   },
   "file_extension": ".py",
   "mimetype": "text/x-python",
   "name": "python",
   "nbconvert_exporter": "python",
   "pygments_lexer": "ipython3",
   "version": "3.6.13"
  }
 },
 "nbformat": 4,
 "nbformat_minor": 5
}
