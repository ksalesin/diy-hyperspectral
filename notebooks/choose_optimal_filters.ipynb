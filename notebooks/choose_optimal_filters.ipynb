{
 "cells": [
  {
   "cell_type": "code",
   "execution_count": 1,
   "metadata": {},
   "outputs": [
    {
     "name": "stdout",
     "output_type": "stream",
     "text": [
      "/Users/kate/diy-hyperspectral\n"
     ]
    }
   ],
   "source": [
    "%cd \"..\"\n",
    "\n",
    "import numpy as np\n",
    "import matplotlib.pyplot as plt\n",
    "from sklearn.decomposition import PCA\n",
    "\n",
    "import tape_data\n",
    "import munsell_data\n",
    "import optimization as opt\n",
    "from experiment import *\n",
    "from polarization import phase_shift, transmission_mueller"
   ]
  },
  {
   "cell_type": "code",
   "execution_count": 2,
   "metadata": {},
   "outputs": [],
   "source": [
    "# Params \n",
    "n_coreset = 10     # Number of filters to choose\n",
    "n_basis = 4        # Number of basis function to describe transmission spectra of filters\n",
    "n_samples = 5000   # Number of randomly generated filters to choose from\n",
    "\n",
    "# Sample theta randomly (n_meas = 0) or use preset list of thetas to generate samples\n",
    "# thetas = np.linspace(0.0, 180.0, 10)\n",
    "# n_meas = len(thetas)\n",
    "n_meas = 0\n",
    "\n",
    "wp_hd = Waveplate(tape_data.THICKNESS_HD, tape_data.BIREFRINGENCE_HD)\n",
    "wp_ss = Waveplate(tape_data.THICKNESS_SS, tape_data.BIREFRINGENCE_SS)"
   ]
  },
  {
   "cell_type": "code",
   "execution_count": 3,
   "metadata": {
    "tags": []
   },
   "outputs": [
    {
     "name": "stdout",
     "output_type": "stream",
     "text": [
      "Creating dataset... done.\n",
      "Choosing optimal filters... done.\n"
     ]
    }
   ],
   "source": [
    "wavelengths = munsell_data.MUNSELL_CHIPS_WAVELENGTHS\n",
    "\n",
    "print(\"Creating dataset...\", end = \"\")\n",
    "dataset = opt.create_dataset(wavelengths, [wp_hd, wp_ss], n_samples = n_samples, thetas = None, fixed_waveplates = True)\n",
    "print(\" done.\")\n",
    "\n",
    "dataset_transmissions = np.array([config.transmission(wavelengths) for config in dataset.flatten()])\n",
    "\n",
    "print(\"Choosing optimal filters...\", end = \"\")\n",
    "opt_filters, pca_basis = opt.choose_optimal_filters(dataset, wavelengths, n_coreset = n_coreset, n_meas = n_meas)\n",
    "print(\" done.\")\n",
    "opt_transmissions = np.array([config.transmission(wavelengths) for config in opt_filters])\n",
    "\n",
    "# Project all filter transmissions down to basis function coefficients\n",
    "filter_coefs, _, _, _ = np.linalg.lstsq(pca_basis.transpose(), dataset_transmissions.transpose(), rcond=None)\n",
    "\n",
    "# Project optimal (coreset) filter transmissions down to basis function coefficients\n",
    "coreset, _, _, _ = np.linalg.lstsq(pca_basis.transpose(), opt_transmissions.transpose(), rcond=None)"
   ]
  },
  {
   "cell_type": "code",
   "execution_count": 4,
   "metadata": {},
   "outputs": [
    {
     "data": {
      "application/vnd.jupyter.widget-view+json": {
       "model_id": "d9976f0a92b14ba580ce214a9ea75289",
       "version_major": 2,
       "version_minor": 0
      },
      "text/plain": [
       "FigureWidget({\n",
       "    'data': [{'marker': {'color': '#bbbbbb', 'opacity': 0.3, 'size': 3},\n",
       "              'mode': …"
      ]
     },
     "metadata": {},
     "output_type": "display_data"
    }
   ],
   "source": [
    "import plotly.graph_objects as go\n",
    "from plotly.subplots import make_subplots\n",
    "\n",
    "plots = []\n",
    "colors = ['Tealgrn', 'Purp', 'Oryel']\n",
    "\n",
    "if n_basis == 2:\n",
    "    scatter_all = go.Scatter(\n",
    "        x = filter_coefs[0, :], y = filter_coefs[1, :],\n",
    "        mode = 'markers',\n",
    "        marker = dict(\n",
    "            size = 10,\n",
    "            color = '#bbbbbb',\n",
    "            opacity = 0.4\n",
    "        )\n",
    "    )\n",
    "\n",
    "    plots.append(scatter_all)\n",
    "\n",
    "    for i in range(n_meas):\n",
    "        start = i * n_coreset\n",
    "        end = (i + 1) * n_coreset\n",
    "        scatter_coreset = go.Scatter(\n",
    "            x = coreset[0, start : end], y = coreset[1, start : end],\n",
    "            mode = 'markers',\n",
    "            marker = dict(\n",
    "                size = 8,\n",
    "                color = coreset[0, start : end],\n",
    "                colorscale = colors[i],\n",
    "                opacity = 1.\n",
    "            )\n",
    "        )\n",
    "\n",
    "        plots.append(scatter_coreset)\n",
    "        \n",
    "    layout = go.Layout(\n",
    "        margin = dict(l=0, r=0, b=0, t=0),\n",
    "        xaxis_title = 'basis_0',\n",
    "        yaxis_title = 'basis_1',\n",
    "        showlegend = False\n",
    "    )\n",
    "else:\n",
    "    scatter_all = go.Scatter3d(\n",
    "        x = filter_coefs[0,:], y = filter_coefs[1,:], z = filter_coefs[2,:],\n",
    "        mode = 'markers',\n",
    "        name = 'all data points',\n",
    "        marker = dict(\n",
    "            size = 3,\n",
    "            color = '#bbbbbb',\n",
    "            opacity = 0.3\n",
    "        )\n",
    "    )\n",
    "\n",
    "    plots.append(scatter_all)\n",
    "\n",
    "    scatter_coreset = go.Scatter3d(\n",
    "        x = coreset[0,:], y = coreset[1,:], z = coreset[2,:],\n",
    "        mode = 'markers',\n",
    "        marker = dict(\n",
    "            size = 8,\n",
    "            color = coreset[3, :],\n",
    "            colorbar = dict(\n",
    "                title = '4th dimension'\n",
    "            ),\n",
    "            colorscale = colors[0],\n",
    "            opacity = 1.\n",
    "        )\n",
    "    )\n",
    "\n",
    "    plots.append(scatter_coreset)\n",
    "\n",
    "    # for i in range(n_meas):\n",
    "    #     start = i * n_coreset\n",
    "    #     end = (i + 1) * n_coreset\n",
    "\n",
    "    #     scatter_coreset = go.Scatter3d(\n",
    "    #         x = coreset[0, start : end], y = coreset[1, start : end], z = coreset[2, start : end],\n",
    "    #         mode = 'markers',\n",
    "    #         marker = dict(\n",
    "    #             size = 8,\n",
    "    #             color = coreset[3, start : end],\n",
    "    #             colorbar = dict(\n",
    "    #                 title = 'meas set ' + str(i + 1),\n",
    "    #                 x = 1 + .1 * i\n",
    "    #             ),\n",
    "    #             colorscale = colors[i],\n",
    "    #             opacity = 1.\n",
    "    #         )\n",
    "    #     )\n",
    "\n",
    "    #     plots.append(scatter_coreset)\n",
    "\n",
    "    layout = go.Layout(\n",
    "        title = 'Optimal filter set',\n",
    "        scene_xaxis_title = 'basis_0',\n",
    "        scene_yaxis_title = 'basis_1',\n",
    "        scene_zaxis_title = 'basis_2',\n",
    "        showlegend = False\n",
    "    )\n",
    "\n",
    "fig = go.FigureWidget(data = plots, layout = layout)\n",
    "fig"
   ]
  },
  {
   "cell_type": "code",
   "execution_count": 6,
   "metadata": {},
   "outputs": [
    {
     "name": "stdout",
     "output_type": "stream",
     "text": [
      "[Config(alphas = [1.29658409e+02 2.05874671e-02], theta = 75.06396084646332, waveplates = [Waveplate(th = 78740.0, bf = 0.00936), Waveplate(th = 66040.0, bf = 0.00872)])\n",
      " Config(alphas = [45.35125617 91.02176339], theta = 1.7220409881319187, waveplates = [Waveplate(th = 78740.0, bf = 0.00936), Waveplate(th = 66040.0, bf = 0.00872)])\n",
      " Config(alphas = [171.98756975 127.52766608], theta = 83.67230159190372, waveplates = [Waveplate(th = 78740.0, bf = 0.00936), Waveplate(th = 66040.0, bf = 0.00872)])\n",
      " Config(alphas = [92.73253881  3.42889193], theta = 2.9581876066994695, waveplates = [Waveplate(th = 78740.0, bf = 0.00936), Waveplate(th = 66040.0, bf = 0.00872)])\n",
      " Config(alphas = [104.76539574  52.80773013], theta = 179.54729869109931, waveplates = [Waveplate(th = 78740.0, bf = 0.00936), Waveplate(th = 66040.0, bf = 0.00872)])\n",
      " Config(alphas = [111.52632644 102.26162198], theta = 75.20884704066437, waveplates = [Waveplate(th = 78740.0, bf = 0.00936), Waveplate(th = 66040.0, bf = 0.00872)])\n",
      " Config(alphas = [125.63272707 144.64108659], theta = 19.62367885568598, waveplates = [Waveplate(th = 78740.0, bf = 0.00936), Waveplate(th = 66040.0, bf = 0.00872)])\n",
      " Config(alphas = [102.67942272 116.54213134], theta = 130.8435005089684, waveplates = [Waveplate(th = 78740.0, bf = 0.00936), Waveplate(th = 66040.0, bf = 0.00872)])\n",
      " Config(alphas = [152.67959268   9.76559263], theta = 51.688662598675556, waveplates = [Waveplate(th = 78740.0, bf = 0.00936), Waveplate(th = 66040.0, bf = 0.00872)])\n",
      " Config(alphas = [177.18834385  86.82158773], theta = 41.94449766718085, waveplates = [Waveplate(th = 78740.0, bf = 0.00936), Waveplate(th = 66040.0, bf = 0.00872)])]\n"
     ]
    }
   ],
   "source": [
    "print(opt_filters)"
   ]
  },
  {
   "cell_type": "code",
   "execution_count": null,
   "metadata": {},
   "outputs": [],
   "source": []
  }
 ],
 "metadata": {
  "kernelspec": {
   "display_name": "Python 3",
   "language": "python",
   "name": "python3"
  },
  "language_info": {
   "codemirror_mode": {
    "name": "ipython",
    "version": 3
   },
   "file_extension": ".py",
   "mimetype": "text/x-python",
   "name": "python",
   "nbconvert_exporter": "python",
   "pygments_lexer": "ipython3",
   "version": "3.6.13"
  }
 },
 "nbformat": 4,
 "nbformat_minor": 2
}
