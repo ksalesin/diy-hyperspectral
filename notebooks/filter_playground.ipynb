{
 "cells": [
  {
   "cell_type": "markdown",
   "metadata": {},
   "source": [
    "## Playground for visualizing filter transmission spectra\n",
    "\n",
    "Calculates the transmission spectrum of light passing through a stack of linear polarizer --> waveplate(s) --> linear polarizer (analyzer) using Mueller calculus.\n",
    "\n",
    "Written by Kate 07/24/22"
   ]
  },
  {
   "cell_type": "code",
   "execution_count": 1,
   "metadata": {},
   "outputs": [
    {
     "name": "stdout",
     "output_type": "stream",
     "text": [
      "/Users/kate/diy-hyperspectral\n"
     ]
    }
   ],
   "source": [
    "%cd \"..\"\n",
    "\n",
    "import numpy as np\n",
    "import matplotlib.pyplot as plt\n",
    "import ipywidgets as widgets\n",
    "from ipywidgets import interact, Layout\n",
    "\n",
    "from polarization import *\n",
    "from color_utils import *\n",
    "\n",
    "import tape_data"
   ]
  },
  {
   "cell_type": "code",
   "execution_count": 17,
   "metadata": {},
   "outputs": [
    {
     "data": {
      "application/vnd.jupyter.widget-view+json": {
       "model_id": "2cfe52e0ab4e46508cace7d40706c712",
       "version_major": 2,
       "version_minor": 0
      },
      "text/plain": [
       "VBox(children=(HBox(children=(Label(value='Waveplate angle', layout=Layout(width='10%')), FloatSlider(value=0.…"
      ]
     },
     "metadata": {},
     "output_type": "display_data"
    },
    {
     "data": {
      "application/vnd.jupyter.widget-view+json": {
       "model_id": "120741bba53f456ebcca5aa39c3efce1",
       "version_major": 2,
       "version_minor": 0
      },
      "text/plain": [
       "Output()"
      ]
     },
     "metadata": {},
     "output_type": "display_data"
    }
   ],
   "source": [
    "# One waveplate system\n",
    "\n",
    "dior = tape_data.BIREFRINGENCE_SS  # birefringence\n",
    "thickness = tape_data.THICKNESS_SS # tape thickness\n",
    "wavelengths = np.arange(340., 831., 10)\n",
    "n = wavelengths.shape[0]\n",
    "\n",
    "gamma = [phase_shift(w, thickness, dior) for w in wavelengths]\n",
    "\n",
    "alpha_slider = widgets.FloatSlider(min=0, max=180, step=5, value=0, layout=Layout(width='40%'))       \n",
    "theta_slider = widgets.FloatSlider(min=0, max=180, step=5, value=45, layout=Layout(width='40%'))\n",
    "alpha_slider_box = widgets.HBox([widgets.Label('Waveplate angle', layout=Layout(width='10%')), alpha_slider])\n",
    "theta_slider_box = widgets.HBox([widgets.Label('Analyzer angle', layout=Layout(width='10%')), theta_slider])\n",
    "ui = widgets.VBox([alpha_slider_box, theta_slider_box])\n",
    "\n",
    "def plot_transmission(alpha_slider, theta_slider):\n",
    "    transmission_m = np.zeros(n)\n",
    "\n",
    "    for i in range(n):\n",
    "        transmission_m[i] = transmission_mueller(gamma[i], np.deg2rad(alpha_slider), np.deg2rad(theta_slider))\n",
    "    \n",
    "    fig, axs = plt.subplots(1, 1)\n",
    "\n",
    "    rgb_m = spec2rgb(wavelengths, transmission_m)\n",
    "    axs.plot(wavelengths, transmission_m, color=rgb_m)\n",
    "    axs.set_ylim(0, 1.01)\n",
    "    axs.set_xlabel('Wavelength (nm)')\n",
    "    axs.set_title('Transmission')\n",
    "    plt.show()\n",
    "    \n",
    "out = widgets.interactive_output(plot_transmission, {'alpha_slider': alpha_slider, 'theta_slider': theta_slider})\n",
    "display(ui, out)"
   ]
  },
  {
   "cell_type": "code",
   "execution_count": 2,
   "metadata": {},
   "outputs": [
    {
     "data": {
      "application/vnd.jupyter.widget-view+json": {
       "model_id": "ab10e91c4160472db9067063f011707b",
       "version_major": 2,
       "version_minor": 0
      },
      "text/plain": [
       "VBox(children=(HBox(children=(Label(value='Waveplate 1 angle', layout=Layout(width='15%')), FloatSlider(value=…"
      ]
     },
     "metadata": {},
     "output_type": "display_data"
    },
    {
     "data": {
      "application/vnd.jupyter.widget-view+json": {
       "model_id": "6a15c4352bb944ffb47c1d220cb87a30",
       "version_major": 2,
       "version_minor": 0
      },
      "text/plain": [
       "Output()"
      ]
     },
     "metadata": {},
     "output_type": "display_data"
    }
   ],
   "source": [
    "# Two waveplate system \n",
    "\n",
    "dior1 = tape_data.BIREFRINGENCE_SS  # birefringence\n",
    "dior2 = tape_data.BIREFRINGENCE_HD\n",
    "thickness1 = tape_data.THICKNESS_SS # tape thickness\n",
    "thickness2 = tape_data.THICKNESS_HD\n",
    "wavelengths = np.arange(340., 831., 10)\n",
    "n = wavelengths.shape[0]\n",
    "\n",
    "gamma1 = [phase_shift(w, thickness1, dior1) for w in wavelengths]\n",
    "gamma2 = [phase_shift(w, thickness2, dior2) for w in wavelengths]\n",
    "\n",
    "alpha1_slider = widgets.FloatSlider(min=0, max=180, step=5, value=0, layout=Layout(width='40%'))       \n",
    "alpha2_slider = widgets.FloatSlider(min=0, max=180, step=5, value=0, layout=Layout(width='40%'))\n",
    "theta_slider = widgets.FloatSlider(min=0, max=180, step=5, value=45, layout=Layout(width='40%'))\n",
    "alpha1_slider_box = widgets.HBox([widgets.Label('Waveplate 1 angle', layout=Layout(width='15%')), alpha1_slider])\n",
    "alpha2_slider_box = widgets.HBox([widgets.Label('Waveplate 2 angle', layout=Layout(width='15%')), alpha2_slider])\n",
    "theta_slider_box = widgets.HBox([widgets.Label('Analyzer angle', layout=Layout(width='15%')), theta_slider])\n",
    "ui = widgets.VBox([alpha1_slider_box, alpha2_slider_box, theta_slider_box])\n",
    "\n",
    "def plot_transmission(alpha1_slider, alpha2_slider, theta_slider): \n",
    "    transmission_m = np.zeros(n)\n",
    "\n",
    "    for i in range(n):\n",
    "        transmission_m[i] = transmission_mueller([gamma1[i], gamma2[i]], [np.deg2rad(alpha1_slider), np.deg2rad(alpha2_slider)], np.deg2rad(theta_slider))\n",
    "    \n",
    "    fig, axs = plt.subplots(1, 1)\n",
    "\n",
    "    rgb_m = spec2rgb(wavelengths, transmission_m)\n",
    "    axs.plot(wavelengths, transmission_m, color=rgb_m)\n",
    "    axs.set_ylim(0, 1.01)\n",
    "    axs.set_xlabel('Wavelength (nm)')\n",
    "    axs.set_title('Transmission')\n",
    "    plt.show()\n",
    "    \n",
    "    \n",
    "out = widgets.interactive_output(plot_transmission, {'alpha1_slider': alpha1_slider,\n",
    "                                                     'alpha2_slider': alpha2_slider,\n",
    "                                                     'theta_slider': theta_slider})\n",
    "display(ui, out)"
   ]
  },
  {
   "cell_type": "code",
   "execution_count": null,
   "metadata": {},
   "outputs": [],
   "source": []
  }
 ],
 "metadata": {
  "kernelspec": {
   "display_name": "Python 3",
   "language": "python",
   "name": "python3"
  },
  "language_info": {
   "codemirror_mode": {
    "name": "ipython",
    "version": 3
   },
   "file_extension": ".py",
   "mimetype": "text/x-python",
   "name": "python",
   "nbconvert_exporter": "python",
   "pygments_lexer": "ipython3",
   "version": "3.6.13"
  }
 },
 "nbformat": 4,
 "nbformat_minor": 2
}
