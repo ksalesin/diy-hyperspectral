{
 "cells": [
  {
   "cell_type": "markdown",
   "id": "34fb0b12",
   "metadata": {},
   "source": [
    "# Birefringence calibration test\n",
    "\n",
    "This script implements the method of [\\[Belendez et al. 2009\\]](https://physlab.lums.edu.pk/images/3/30/Cellophane2.pdf) to acquire the birefringence value of a birefringent material (tape) based on a series of measurements under different single-wavelength illuminants. This is a test verifying that our method can acquire a correct birefringence value under \"ideal\" conditions and assumptions.\n",
    "\n",
    "Units:  \n",
    "angles: degrees\n",
    "wavelengths: nanometers  \n",
    "thickness: nanometers  \n",
    "\n",
    "Types of tape:  \n",
    "Sure Start: 2.6 mil / 66040 nm thick  \n",
    "Heavy Duty: 3.1 mil / 78740 nm thick  \n",
    "\n",
    "Our laser wavelengths:  \n",
    "650 nm (red)  \n",
    "532 nm (green)  \n",
    "405 nm (purple)"
   ]
  },
  {
   "cell_type": "code",
   "execution_count": 1,
   "id": "7d8d8f50",
   "metadata": {},
   "outputs": [
    {
     "name": "stdout",
     "output_type": "stream",
     "text": [
      "/Users/kate/diy-hyperspectral\n"
     ]
    }
   ],
   "source": [
    "%cd \"..\"\n",
    "\n",
    "import numpy as np\n",
    "import matplotlib.pyplot as plt\n",
    "from plotly.subplots import make_subplots\n",
    "import plotly.graph_objects as go\n",
    "\n",
    "import sensor_data\n",
    "import color_utils\n",
    "import tape_data\n",
    "from experiment import *"
   ]
  },
  {
   "cell_type": "code",
   "execution_count": 2,
   "id": "bea9fe3c",
   "metadata": {},
   "outputs": [],
   "source": [
    "# Laser params\n",
    "laser_wavelengths = np.array([405.0, 532.0, 650.0])\n",
    "\n",
    "# Tape params\n",
    "birefringence = 0.0077\n",
    "thickness = tape_data.THICKNESS_SS # Sure Start\n",
    "# thickness = tape_data.THICKNESS_HD # Heavy Duty"
   ]
  },
  {
   "cell_type": "code",
   "execution_count": 3,
   "id": "40dde1a1",
   "metadata": {},
   "outputs": [],
   "source": [
    "configs = []\n",
    "\n",
    "# Create filters from waveplates and analyzer angles\n",
    "theta = np.linspace(0.0, 180.0, 37)\n",
    "alpha = np.repeat(45.0, theta.shape[0])\n",
    "wp = Waveplate(thickness, birefringence)\n",
    "\n",
    "for a in range(theta.shape[0]):\n",
    "    configs.append(Config(alpha[a], theta[a], [wp]))\n",
    "\n",
    "configs = np.array(configs)"
   ]
  },
  {
   "cell_type": "code",
   "execution_count": 4,
   "id": "0d83e2f3",
   "metadata": {},
   "outputs": [
    {
     "name": "stderr",
     "output_type": "stream",
     "text": [
      "/Users/kate/diy-hyperspectral/polarization.py:75: VisibleDeprecationWarning:\n",
      "\n",
      "Creating an ndarray from ragged nested sequences (which is a list-or-tuple of lists-or-tuples-or ndarrays with different lengths or shapes) is deprecated. If you meant to do this, you must specify 'dtype=object' when creating the ndarray\n",
      "\n"
     ]
    }
   ],
   "source": [
    "# Run experiments - measure response for every wavelength and filter configuration\n",
    "sensor_wavelengths = sensor_data.NIKON_WAVELENGTHS\n",
    "sensor_response = sensor_data.TEST_RESPONSE\n",
    "\n",
    "measurements = np.zeros((len(laser_wavelengths),len(configs),3))\n",
    "\n",
    "for w, wavelength in enumerate(laser_wavelengths):\n",
    "    filters = np.array([config.transmission(wavelength) for config in configs])\n",
    "    filters = np.expand_dims(filters, axis = 1)\n",
    "    measurements[w,:,:] = measure_single(wavelength, 1.0, filters, sensor_response, sensor_wavelengths)"
   ]
  },
  {
   "cell_type": "code",
   "execution_count": 5,
   "id": "07dd4ddd",
   "metadata": {},
   "outputs": [
    {
     "name": "stdout",
     "output_type": "stream",
     "text": [
      "wav_blue_over_wav_j:  [1.         0.7612782  0.62307692]\n",
      "\n",
      "\n",
      "Possible solutions if gamma_blue =  gamma_min\n",
      "gamma_j =  gamma_min\n",
      "[1.         0.17277842 0.85172547]\n",
      "\n",
      "Possible solutions if gamma_blue =  2 pi - gamma_min\n",
      "gamma_j =  gamma_min\n",
      "[0.         0.05931815 0.29241373]\n",
      "gamma_j =  2 pi - gamma_min\n",
      "[1. 0. 0.]\n",
      "\n",
      "Possible solutions if gamma_blue =  2 pi + gamma_min\n",
      "gamma_j =  gamma_min\n",
      "[0.         0.03516945 0.17337072]\n",
      "gamma_j =  2 pi - gamma_min\n",
      "[0.         0.76127819 0.62307692]\n",
      "gamma_j =  2 pi + gamma_min\n",
      "[1.         0.8316171  0.96981837]\n",
      "\n",
      "Possible solutions if gamma_blue =  4 pi - gamma_min\n",
      "gamma_j =  gamma_min\n",
      "[0.         0.02531373 0.12478613]\n",
      "gamma_j =  2 pi - gamma_min\n",
      "[0.         0.54794117 0.44846877]\n",
      "gamma_j =  2 pi + gamma_min\n",
      "[0.         0.59856863 0.69804103]\n",
      "gamma_j =  4 pi - gamma_min\n",
      "[1. 0. 0.]\n",
      "\n",
      "Possible solutions if gamma_blue =  4 pi + gamma_min\n",
      "gamma_j =  gamma_min\n",
      "[0.         0.01957722 0.09650753]\n",
      "gamma_j =  2 pi - gamma_min\n",
      "[0.         0.42376865 0.34683834]\n",
      "gamma_j =  2 pi + gamma_min\n",
      "[0.         0.46292309 0.5398534 ]\n",
      "gamma_j =  4 pi - gamma_min\n",
      "[0.         0.86711452 0.79018421]\n",
      "gamma_j =  4 pi + gamma_min\n",
      "[1.         0.90626896 0.98319927]\n",
      "\n",
      "Final gamma:  [7.88901233 6.00573305 4.91546153]\n"
     ]
    }
   ],
   "source": [
    "# Solve for gamma (retardance angle) for each wavelength\n",
    "\n",
    "x = np.cos(np.deg2rad(2 * theta))\n",
    "A = np.vstack([x, np.ones(x.shape[0])]).T\n",
    "\n",
    "cos_gamma = np.zeros((len(laser_wavelengths),3))\n",
    "\n",
    "for w in range(len(laser_wavelengths)):\n",
    "    for c in range(3):\n",
    "        # Solve Eq. 16 by least squares\n",
    "        m, n = np.linalg.lstsq(A, measurements[w,:,c], rcond=None)[0]\n",
    "        \n",
    "        # Solve Eq. 20\n",
    "        cos_gamma[w,c] = m / n\n",
    "\n",
    "# m / n should be the same for all color channels, take the average\n",
    "cos_gamma = np.average(cos_gamma, axis = 1)\n",
    "\n",
    "# Clamp to [-1, 1]\n",
    "cos_gamma = np.clip(cos_gamma, -1.0, 1.0)\n",
    "\n",
    "# Find smallest possible gamma\n",
    "gamma_min = np.arccos(cos_gamma)\n",
    "\n",
    "# Resolve ambiguity in gamma (see Eqs. 21-24)\n",
    "wav_blue_over_wav_j = laser_wavelengths[0] / laser_wavelengths\n",
    "print(\"wav_blue_over_wav_j: \", wav_blue_over_wav_j)\n",
    "print()\n",
    "\n",
    "# Solve for N and +/- per wavelength\n",
    "# Choose option that gives wav_blue_over_wav_j = gamma_j_over_gamma_blue per wavelength\n",
    "options_str = ['gamma_min', \n",
    "               '2 pi - gamma_min',\n",
    "               '2 pi + gamma_min',\n",
    "               '4 pi - gamma_min',\n",
    "               '4 pi + gamma_min'] # etc.\n",
    "\n",
    "options = [gamma_min, \n",
    "           2. * np.pi - gamma_min,\n",
    "           2. * np.pi + gamma_min,\n",
    "           4. * np.pi - gamma_min,\n",
    "           4. * np.pi + gamma_min] # etc.\n",
    "\n",
    "for i, gamma_blue in enumerate(options):\n",
    "    print()\n",
    "    print('Possible solutions if gamma_blue = ', options_str[i])\n",
    "    \n",
    "    for j, gamma_j in enumerate(options):\n",
    "        # Skip all options where gamma_j > gamma_blue (not a possible solution)\n",
    "        if j > i:\n",
    "            continue\n",
    "            \n",
    "        gj_gb = gamma_j / gamma_blue[0]\n",
    "        \n",
    "        # Replace all options where gamma_j_over_gamma_blue > 1 with 0. (not a possible solution)\n",
    "        # Because we can assume gamma is inversely proportional to wavelength (by Eq. 1)\n",
    "        gj_gb = np.where(gj_gb > 1.0, 0., gj_gb)\n",
    "        \n",
    "        # gamma_blue must equal gamma_j if j = blue\n",
    "        if i != j:\n",
    "            gj_gb[0] = 0.\n",
    "        \n",
    "        print('gamma_j = ', options_str[j])\n",
    "        print(gj_gb)\n",
    "        \n",
    "# Choose best options, verify that gamma_blue > gamma_green > gamma_red\n",
    "blue_opt  = 2\n",
    "green_opt = 1\n",
    "red_opt   = 1\n",
    "\n",
    "gamma = np.zeros_like(gamma_min)\n",
    "gamma[0] = options[blue_opt][0] # blue\n",
    "gamma[1] = options[green_opt][1] # green\n",
    "gamma[2] = options[red_opt][2] # red\n",
    "\n",
    "print()\n",
    "print(\"Final gamma: \", gamma)"
   ]
  },
  {
   "cell_type": "code",
   "execution_count": 6,
   "id": "1f47590d",
   "metadata": {},
   "outputs": [
    {
     "name": "stdout",
     "output_type": "stream",
     "text": [
      "0.007699999992650467\n",
      "[0.0077 0.0077 0.0077]\n"
     ]
    }
   ],
   "source": [
    "# Solve for birefringence\n",
    "\n",
    "inv_wav = 1.0 / laser_wavelengths\n",
    "A = np.vstack((inv_wav, np.zeros(inv_wav.shape))).T\n",
    "\n",
    "# Solve Eq. 1 by least squares\n",
    "bir_thk_2pi, _ = np.linalg.lstsq(A, gamma, rcond=None)[0]\n",
    "\n",
    "bir_thk = bir_thk_2pi / (2. * np.pi)\n",
    "birefringence_meas = bir_thk / thickness\n",
    "\n",
    "print(birefringence_meas)\n",
    "\n",
    "# Calculate birefringence separately per wavelength instead\n",
    "birefringence_meas2 = gamma * laser_wavelengths / (2. * np.pi * thickness)\n",
    "print(birefringence_meas2)"
   ]
  },
  {
   "cell_type": "code",
   "execution_count": 7,
   "id": "40d8bc16",
   "metadata": {},
   "outputs": [
    {
     "name": "stdout",
     "output_type": "stream",
     "text": [
      "[452.0071111  344.10315684 281.63519994]\n",
      "[452.00711068 344.10315757 281.63519973]\n"
     ]
    }
   ],
   "source": [
    "print(np.rad2deg(gamma))\n",
    "\n",
    "# Double check gammas with measured birefringence\n",
    "gamma_exp = (2. * np.pi) * birefringence_meas * thickness / laser_wavelengths\n",
    "print(np.rad2deg(gamma_exp))"
   ]
  },
  {
   "cell_type": "code",
   "execution_count": null,
   "id": "abfcce5b",
   "metadata": {},
   "outputs": [],
   "source": []
  }
 ],
 "metadata": {
  "kernelspec": {
   "display_name": "Python 3",
   "language": "python",
   "name": "python3"
  },
  "language_info": {
   "codemirror_mode": {
    "name": "ipython",
    "version": 3
   },
   "file_extension": ".py",
   "mimetype": "text/x-python",
   "name": "python",
   "nbconvert_exporter": "python",
   "pygments_lexer": "ipython3",
   "version": "3.6.13"
  }
 },
 "nbformat": 4,
 "nbformat_minor": 5
}
